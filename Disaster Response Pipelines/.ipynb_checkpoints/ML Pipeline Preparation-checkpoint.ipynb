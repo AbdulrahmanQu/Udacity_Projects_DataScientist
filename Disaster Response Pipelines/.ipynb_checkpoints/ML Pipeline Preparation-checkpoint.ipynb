{
 "cells": [
  {
   "cell_type": "markdown",
   "metadata": {},
   "source": [
    "# ML Pipeline Preparation\n",
    "Follow the instructions below to help you create your ML pipeline.\n",
    "### 1. Import libraries and load data from database.\n",
    "- Import Python libraries\n",
    "- Load dataset from database with [`read_sql_table`](https://pandas.pydata.org/pandas-docs/stable/generated/pandas.read_sql_table.html)\n",
    "- Define feature and target variables X and Y"
   ]
  },
  {
   "cell_type": "code",
   "execution_count": 1,
   "metadata": {},
   "outputs": [
    {
     "name": "stderr",
     "output_type": "stream",
     "text": [
      "/Library/Frameworks/Python.framework/Versions/3.6/lib/python3.6/site-packages/sklearn/externals/joblib/__init__.py:15: DeprecationWarning: sklearn.externals.joblib is deprecated in 0.21 and will be removed in 0.23. Please import this functionality directly from joblib, which can be installed with: pip install joblib. If this warning is raised when loading pickled models, you may need to re-serialize those models with scikit-learn 0.21+.\n",
      "  warnings.warn(msg, category=DeprecationWarning)\n",
      "[nltk_data] <urlopen error [SSL: CERTIFICATE_VERIFY_FAILED]\n",
      "[nltk_data]     certificate verify failed (_ssl.c:833)>\n"
     ]
    },
    {
     "data": {
      "text/plain": [
       "False"
      ]
     },
     "execution_count": 1,
     "metadata": {},
     "output_type": "execute_result"
    }
   ],
   "source": [
    "# import libraries\n",
    "import pandas as pd\n",
    "import numpy as np\n",
    "from sqlalchemy import create_engine\n",
    "import sys\n",
    "import re\n",
    "import pickle\n",
    "import nltk\n",
    "from nltk.tokenize import word_tokenize,sent_tokenize\n",
    "from nltk.stem import WordNetLemmatizer\n",
    "from nltk.corpus import stopwords\n",
    "from sklearn.metrics import confusion_matrix\n",
    "from sklearn.model_selection import train_test_split\n",
    "from sklearn.tree import DecisionTreeClassifier\n",
    "from sklearn.ensemble import RandomForestClassifier,AdaBoostClassifier\n",
    "from sklearn.naive_bayes import MultinomialNB\n",
    "from sklearn.feature_extraction.text import CountVectorizer, TfidfTransformer, TfidfVectorizer\n",
    "from sklearn.multioutput import MultiOutputClassifier\n",
    "from sklearn.pipeline import Pipeline\n",
    "from sklearn.metrics import precision_recall_fscore_support,accuracy_score,label_ranking_average_precision_score\n",
    "from sklearn.model_selection  import GridSearchCV\n",
    "from sklearn.externals import joblib\n",
    "\n",
    "nltk.download(['punkt','stopwords','wordnet'])"
   ]
  },
  {
   "cell_type": "code",
   "execution_count": 2,
   "metadata": {},
   "outputs": [],
   "source": [
    "# load data from database\n",
    "\n",
    "def load_data(db_path='data/DisasterResponse.db',tablename='disastertab'):\n",
    "    \"\"\"\n",
    "    Function: load data from database and return X and y.\n",
    "    Args:\n",
    "      db_path(str): database file name included path\n",
    "      tablename:(str): table name in the database file.\n",
    "    Return:\n",
    "      X(pd.DataFrame): messages for X\n",
    "      y(pd.DataFrame): labels part in messages for y\n",
    "    \"\"\"\n",
    "    # load data from database\n",
    "    engine = create_engine('sqlite:///'+db_path)\n",
    "    df=pd.read_sql_table(tablename, engine)\n",
    "    X = df['message']\n",
    "    # result is multiple classifty.\n",
    "    y = df.iloc[:,4:]\n",
    "    return X, y"
   ]
  },
  {
   "cell_type": "code",
   "execution_count": 3,
   "metadata": {},
   "outputs": [],
   "source": [
    "X,y=load_data()"
   ]
  },
  {
   "cell_type": "markdown",
   "metadata": {},
   "source": [
    "### 2. Write a tokenization function to process your text data"
   ]
  },
  {
   "cell_type": "code",
   "execution_count": 4,
   "metadata": {},
   "outputs": [],
   "source": [
    "def tokenize(text):\n",
    "\n",
    "    text = re.sub(r'[^a-zA-Z0-9]',' ',text.lower())\n",
    "    \n",
    "\n",
    "    words = word_tokenize(text)\n",
    "    tokens = [w for w in words if w not in stopwords.words(\"english\")]\n",
    "    \n",
    "\n",
    "    lemmatizer = WordNetLemmatizer()\n",
    "    clean_tokens = []\n",
    "    for tok in tokens:\n",
    "        clean_tok = lemmatizer.lemmatize(tok).strip()\n",
    "        clean_tokens.append(clean_tok)\n",
    "\n",
    "    return clean_tokens"
   ]
  },
  {
   "cell_type": "markdown",
   "metadata": {},
   "source": [
    "### 3. Build a machine learning pipeline\n",
    "This machine pipeline should take in the `message` column as input and output classification results on the other 36 categories in the dataset. You may find the [MultiOutputClassifier](http://scikit-learn.org/stable/modules/generated/sklearn.multioutput.MultiOutputClassifier.html) helpful for predicting multiple target variables."
   ]
  },
  {
   "cell_type": "code",
   "execution_count": 5,
   "metadata": {},
   "outputs": [],
   "source": [
    "pipeline = Pipeline([\n",
    "    ('vect',TfidfVectorizer(tokenizer=tokenize)),\n",
    "    ('clf', MultiOutputClassifier(RandomForestClassifier(n_estimators=200)))\n",
    "])"
   ]
  },
  {
   "cell_type": "markdown",
   "metadata": {},
   "source": [
    "### 4. Train pipeline\n",
    "- Split data into train and test sets\n",
    "- Train pipeline"
   ]
  },
  {
   "cell_type": "code",
   "execution_count": 6,
   "metadata": {},
   "outputs": [
    {
     "data": {
      "text/plain": [
       "Pipeline(memory=None,\n",
       "         steps=[('vect',\n",
       "                 TfidfVectorizer(analyzer='word', binary=False,\n",
       "                                 decode_error='strict',\n",
       "                                 dtype=<class 'numpy.float64'>,\n",
       "                                 encoding='utf-8', input='content',\n",
       "                                 lowercase=True, max_df=1.0, max_features=None,\n",
       "                                 min_df=1, ngram_range=(1, 1), norm='l2',\n",
       "                                 preprocessor=None, smooth_idf=True,\n",
       "                                 stop_words=None, strip_accents=None,\n",
       "                                 sublinear_tf=False,\n",
       "                                 token_pattern='(...\n",
       "                 MultiOutputClassifier(estimator=RandomForestClassifier(bootstrap=True,\n",
       "                                                                        class_weight=None,\n",
       "                                                                        criterion='gini',\n",
       "                                                                        max_depth=None,\n",
       "                                                                        max_features='auto',\n",
       "                                                                        max_leaf_nodes=None,\n",
       "                                                                        min_impurity_decrease=0.0,\n",
       "                                                                        min_impurity_split=None,\n",
       "                                                                        min_samples_leaf=1,\n",
       "                                                                        min_samples_split=2,\n",
       "                                                                        min_weight_fraction_leaf=0.0,\n",
       "                                                                        n_estimators=200,\n",
       "                                                                        n_jobs=None,\n",
       "                                                                        oob_score=False,\n",
       "                                                                        random_state=None,\n",
       "                                                                        verbose=0,\n",
       "                                                                        warm_start=False),\n",
       "                                       n_jobs=None))],\n",
       "         verbose=False)"
      ]
     },
     "execution_count": 6,
     "metadata": {},
     "output_type": "execute_result"
    }
   ],
   "source": [
    "X_train,X_test,y_train,y_test=train_test_split(X,y,test_size=0.2, random_state=42)\n",
    "pipeline.fit(X_train,y_train)"
   ]
  },
  {
   "cell_type": "markdown",
   "metadata": {},
   "source": [
    "### 5. Test your model\n",
    "Report the f1 score, precision and recall for each output category of the dataset. You can do this by iterating through the columns and calling sklearn's `classification_report` on each."
   ]
  },
  {
   "cell_type": "code",
   "execution_count": 7,
   "metadata": {},
   "outputs": [],
   "source": [
    "def display_results(Y_test, y_pred):\n",
    "    \n",
    "    result=precision_recall_fscore_support(Y_test, y_pred)\n",
    "    for i, col in enumerate(Y_test.columns.values):\n",
    "        accu=accuracy_score(Y_test.loc[:,col],y_pred[:,i])\n",
    "        score = ('{}\\n Accuracy:  {:.4f}   % Precision: {:.4f}   % Recall {:.4f} '.format(\n",
    "                  col,accu,result[0][i],result[1][i]))\n",
    "        print(score)\n",
    "    avg_precision = label_ranking_average_precision_score(Y_test, y_pred)\n",
    "    avg_score= ('label ranking average precision: {}'.format(avg_precision))\n",
    "    print(avg_score)"
   ]
  },
  {
   "cell_type": "code",
   "execution_count": 8,
   "metadata": {},
   "outputs": [],
   "source": [
    "y_pred=pipeline.predict(X_test)"
   ]
  },
  {
   "cell_type": "code",
   "execution_count": 9,
   "metadata": {},
   "outputs": [
    {
     "name": "stderr",
     "output_type": "stream",
     "text": [
      "/Library/Frameworks/Python.framework/Versions/3.6/lib/python3.6/site-packages/sklearn/metrics/classification.py:1437: UndefinedMetricWarning: Precision and F-score are ill-defined and being set to 0.0 in labels with no predicted samples.\n",
      "  'precision', 'predicted', average, warn_for)\n",
      "/Library/Frameworks/Python.framework/Versions/3.6/lib/python3.6/site-packages/sklearn/metrics/classification.py:1439: UndefinedMetricWarning: Recall and F-score are ill-defined and being set to 0.0 in labels with no true samples.\n",
      "  'recall', 'true', average, warn_for)\n"
     ]
    },
    {
     "name": "stdout",
     "output_type": "stream",
     "text": [
      "related\n",
      " Accuracy:  0.9936   % Precision: 0.9949   % Recall 0.9968 \n",
      "request\n",
      " Accuracy:  0.9945   % Precision: 0.9965   % Recall 0.9708 \n",
      "offer\n",
      " Accuracy:  0.9998   % Precision: 1.0000   % Recall 0.9589 \n",
      "aid_related\n",
      " Accuracy:  0.9905   % Precision: 0.9916   % Recall 0.9853 \n",
      "medical_help\n",
      " Accuracy:  0.9971   % Precision: 0.9983   % Recall 0.9651 \n",
      "medical_products\n",
      " Accuracy:  0.9967   % Precision: 0.9933   % Recall 0.9402 \n",
      "search_and_rescue\n",
      " Accuracy:  0.9989   % Precision: 0.9953   % Recall 0.9658 \n",
      "security\n",
      " Accuracy:  0.9990   % Precision: 0.9730   % Recall 0.9730 \n",
      "military\n",
      " Accuracy:  0.9985   % Precision: 0.9980   % Recall 0.9579 \n",
      "child_alone\n",
      " Accuracy:  1.0000   % Precision: 0.0000   % Recall 0.0000 \n",
      "water\n",
      " Accuracy:  0.9986   % Precision: 0.9990   % Recall 0.9789 \n",
      "food\n",
      " Accuracy:  0.9984   % Precision: 0.9949   % Recall 0.9909 \n",
      "shelter\n",
      " Accuracy:  0.9983   % Precision: 0.9956   % Recall 0.9846 \n",
      "clothing\n",
      " Accuracy:  0.9992   % Precision: 0.9875   % Recall 0.9634 \n",
      "money\n",
      " Accuracy:  0.9992   % Precision: 1.0000   % Recall 0.9651 \n",
      "missing_people\n",
      " Accuracy:  0.9997   % Precision: 0.9946   % Recall 0.9840 \n",
      "refugees\n",
      " Accuracy:  0.9988   % Precision: 0.9980   % Recall 0.9653 \n",
      "death\n",
      " Accuracy:  0.9983   % Precision: 0.9986   % Recall 0.9650 \n",
      "other_aid\n",
      " Accuracy:  0.9909   % Precision: 0.9938   % Recall 0.9360 \n",
      "infrastructure_related\n",
      " Accuracy:  0.9968   % Precision: 0.9958   % Recall 0.9540 \n",
      "transport\n",
      " Accuracy:  0.9984   % Precision: 0.9973   % Recall 0.9697 \n",
      "buildings\n",
      " Accuracy:  0.9975   % Precision: 0.9909   % Recall 0.9596 \n",
      "electricity\n",
      " Accuracy:  0.9992   % Precision: 1.0000   % Recall 0.9608 \n",
      "tools\n",
      " Accuracy:  0.9996   % Precision: 1.0000   % Recall 0.9293 \n",
      "hospitals\n",
      " Accuracy:  0.9994   % Precision: 1.0000   % Recall 0.9419 \n",
      "shops\n",
      " Accuracy:  1.0000   % Precision: 1.0000   % Recall 1.0000 \n",
      "aid_centers\n",
      " Accuracy:  0.9991   % Precision: 1.0000   % Recall 0.9251 \n",
      "other_infrastructure\n",
      " Accuracy:  0.9981   % Precision: 0.9939   % Recall 0.9618 \n",
      "weather_related\n",
      " Accuracy:  0.9957   % Precision: 0.9923   % Recall 0.9923 \n",
      "floods\n",
      " Accuracy:  0.9989   % Precision: 0.9969   % Recall 0.9894 \n",
      "storm\n",
      " Accuracy:  0.9981   % Precision: 0.9923   % Recall 0.9867 \n",
      "fire\n",
      " Accuracy:  1.0000   % Precision: 1.0000   % Recall 1.0000 \n",
      "earthquake\n",
      " Accuracy:  0.9983   % Precision: 0.9866   % Recall 0.9959 \n",
      "cold\n",
      " Accuracy:  0.9992   % Precision: 0.9971   % Recall 0.9660 \n",
      "other_weather\n",
      " Accuracy:  0.9976   % Precision: 0.9892   % Recall 0.9661 \n",
      "direct_report\n",
      " Accuracy:  0.9926   % Precision: 0.9937   % Recall 0.9681 \n",
      "label ranking average precision: 0.9871415344426967\n"
     ]
    }
   ],
   "source": [
    "display_results(y_test, y_pred)"
   ]
  },
  {
   "cell_type": "markdown",
   "metadata": {},
   "source": [
    "### 6. Improve your model\n",
    "Use grid search to find better parameters. "
   ]
  },
  {
   "cell_type": "code",
   "execution_count": 20,
   "metadata": {},
   "outputs": [],
   "source": [
    "parameters = {\n",
    "    'clf__estimator__min_samples_leaf': [1,10],\n",
    "    'clf__estimator__max_features': ['auto','log2'],\n",
    "    'vect__smooth_idf':[True]\n",
    "}\n",
    "\n",
    "cv = GridSearchCV(pipeline, param_grid=parameters,n_jobs=-1)"
   ]
  },
  {
   "cell_type": "markdown",
   "metadata": {},
   "source": [
    "### 7. Test your model\n",
    "Show the accuracy, precision, and recall of the tuned model.  \n",
    "\n",
    "Since this project focuses on code quality, process, and  pipelines, there is no minimum performance metric needed to pass. However, make sure to fine tune your models for accuracy, precision and recall to make your project stand out - especially for your portfolio!"
   ]
  },
  {
   "cell_type": "code",
   "execution_count": 21,
   "metadata": {},
   "outputs": [
    {
     "name": "stderr",
     "output_type": "stream",
     "text": [
      "/Library/Frameworks/Python.framework/Versions/3.6/lib/python3.6/site-packages/sklearn/metrics/classification.py:1437: UndefinedMetricWarning: Precision and F-score are ill-defined and being set to 0.0 in labels with no predicted samples.\n",
      "  'precision', 'predicted', average, warn_for)\n",
      "/Library/Frameworks/Python.framework/Versions/3.6/lib/python3.6/site-packages/sklearn/metrics/classification.py:1439: UndefinedMetricWarning: Recall and F-score are ill-defined and being set to 0.0 in labels with no true samples.\n",
      "  'recall', 'true', average, warn_for)\n"
     ]
    },
    {
     "name": "stdout",
     "output_type": "stream",
     "text": [
      "related\n",
      " Accuracy:  0.9936   % Precision: 0.9949   % Recall 0.9968 \n",
      "request\n",
      " Accuracy:  0.9945   % Precision: 0.9965   % Recall 0.9708 \n",
      "offer\n",
      " Accuracy:  0.9998   % Precision: 1.0000   % Recall 0.9589 \n",
      "aid_related\n",
      " Accuracy:  0.9905   % Precision: 0.9916   % Recall 0.9853 \n",
      "medical_help\n",
      " Accuracy:  0.9971   % Precision: 0.9983   % Recall 0.9651 \n",
      "medical_products\n",
      " Accuracy:  0.9967   % Precision: 0.9933   % Recall 0.9402 \n",
      "search_and_rescue\n",
      " Accuracy:  0.9989   % Precision: 0.9953   % Recall 0.9658 \n",
      "security\n",
      " Accuracy:  0.9990   % Precision: 0.9730   % Recall 0.9730 \n",
      "military\n",
      " Accuracy:  0.9985   % Precision: 0.9980   % Recall 0.9579 \n",
      "child_alone\n",
      " Accuracy:  1.0000   % Precision: 0.0000   % Recall 0.0000 \n",
      "water\n",
      " Accuracy:  0.9986   % Precision: 0.9990   % Recall 0.9789 \n",
      "food\n",
      " Accuracy:  0.9984   % Precision: 0.9949   % Recall 0.9909 \n",
      "shelter\n",
      " Accuracy:  0.9983   % Precision: 0.9956   % Recall 0.9846 \n",
      "clothing\n",
      " Accuracy:  0.9992   % Precision: 0.9875   % Recall 0.9634 \n",
      "money\n",
      " Accuracy:  0.9992   % Precision: 1.0000   % Recall 0.9651 \n",
      "missing_people\n",
      " Accuracy:  0.9997   % Precision: 0.9946   % Recall 0.9840 \n",
      "refugees\n",
      " Accuracy:  0.9988   % Precision: 0.9980   % Recall 0.9653 \n",
      "death\n",
      " Accuracy:  0.9983   % Precision: 0.9986   % Recall 0.9650 \n",
      "other_aid\n",
      " Accuracy:  0.9909   % Precision: 0.9938   % Recall 0.9360 \n",
      "infrastructure_related\n",
      " Accuracy:  0.9968   % Precision: 0.9958   % Recall 0.9540 \n",
      "transport\n",
      " Accuracy:  0.9984   % Precision: 0.9973   % Recall 0.9697 \n",
      "buildings\n",
      " Accuracy:  0.9975   % Precision: 0.9909   % Recall 0.9596 \n",
      "electricity\n",
      " Accuracy:  0.9992   % Precision: 1.0000   % Recall 0.9608 \n",
      "tools\n",
      " Accuracy:  0.9996   % Precision: 1.0000   % Recall 0.9293 \n",
      "hospitals\n",
      " Accuracy:  0.9994   % Precision: 1.0000   % Recall 0.9419 \n",
      "shops\n",
      " Accuracy:  1.0000   % Precision: 1.0000   % Recall 1.0000 \n",
      "aid_centers\n",
      " Accuracy:  0.9991   % Precision: 1.0000   % Recall 0.9251 \n",
      "other_infrastructure\n",
      " Accuracy:  0.9981   % Precision: 0.9939   % Recall 0.9618 \n",
      "weather_related\n",
      " Accuracy:  0.9957   % Precision: 0.9923   % Recall 0.9923 \n",
      "floods\n",
      " Accuracy:  0.9989   % Precision: 0.9969   % Recall 0.9894 \n",
      "storm\n",
      " Accuracy:  0.9981   % Precision: 0.9923   % Recall 0.9867 \n",
      "fire\n",
      " Accuracy:  1.0000   % Precision: 1.0000   % Recall 1.0000 \n",
      "earthquake\n",
      " Accuracy:  0.9983   % Precision: 0.9866   % Recall 0.9959 \n",
      "cold\n",
      " Accuracy:  0.9992   % Precision: 0.9971   % Recall 0.9660 \n",
      "other_weather\n",
      " Accuracy:  0.9976   % Precision: 0.9892   % Recall 0.9661 \n",
      "direct_report\n",
      " Accuracy:  0.9926   % Precision: 0.9937   % Recall 0.9681 \n",
      "label ranking average precision: 0.9871415344426967\n"
     ]
    }
   ],
   "source": [
    "display_results(y_test, y_pred)"
   ]
  },
  {
   "cell_type": "markdown",
   "metadata": {},
   "source": [
    "### 8. Try improving your model further. Here are a few ideas:\n",
    "* try other machine learning algorithms\n",
    "* add other features besides the TF-IDF"
   ]
  },
  {
   "cell_type": "code",
   "execution_count": 22,
   "metadata": {},
   "outputs": [
    {
     "data": {
      "text/plain": [
       "{'memory': None,\n",
       " 'steps': [('vect',\n",
       "   TfidfVectorizer(analyzer='word', binary=False, decode_error='strict',\n",
       "                   dtype=<class 'numpy.float64'>, encoding='utf-8',\n",
       "                   input='content', lowercase=True, max_df=1.0, max_features=None,\n",
       "                   min_df=1, ngram_range=(1, 1), norm='l2', preprocessor=None,\n",
       "                   smooth_idf=True, stop_words=None, strip_accents=None,\n",
       "                   sublinear_tf=False, token_pattern='(?u)\\\\b\\\\w\\\\w+\\\\b',\n",
       "                   tokenizer=<function tokenize at 0x142ff1598>, use_idf=True,\n",
       "                   vocabulary=None)),\n",
       "  ('clf',\n",
       "   MultiOutputClassifier(estimator=AdaBoostClassifier(algorithm='SAMME.R',\n",
       "                                                      base_estimator=None,\n",
       "                                                      learning_rate=1.0,\n",
       "                                                      n_estimators=50,\n",
       "                                                      random_state=None),\n",
       "                         n_jobs=None))],\n",
       " 'verbose': False,\n",
       " 'vect': TfidfVectorizer(analyzer='word', binary=False, decode_error='strict',\n",
       "                 dtype=<class 'numpy.float64'>, encoding='utf-8',\n",
       "                 input='content', lowercase=True, max_df=1.0, max_features=None,\n",
       "                 min_df=1, ngram_range=(1, 1), norm='l2', preprocessor=None,\n",
       "                 smooth_idf=True, stop_words=None, strip_accents=None,\n",
       "                 sublinear_tf=False, token_pattern='(?u)\\\\b\\\\w\\\\w+\\\\b',\n",
       "                 tokenizer=<function tokenize at 0x142ff1598>, use_idf=True,\n",
       "                 vocabulary=None),\n",
       " 'clf': MultiOutputClassifier(estimator=AdaBoostClassifier(algorithm='SAMME.R',\n",
       "                                                    base_estimator=None,\n",
       "                                                    learning_rate=1.0,\n",
       "                                                    n_estimators=50,\n",
       "                                                    random_state=None),\n",
       "                       n_jobs=None),\n",
       " 'vect__analyzer': 'word',\n",
       " 'vect__binary': False,\n",
       " 'vect__decode_error': 'strict',\n",
       " 'vect__dtype': numpy.float64,\n",
       " 'vect__encoding': 'utf-8',\n",
       " 'vect__input': 'content',\n",
       " 'vect__lowercase': True,\n",
       " 'vect__max_df': 1.0,\n",
       " 'vect__max_features': None,\n",
       " 'vect__min_df': 1,\n",
       " 'vect__ngram_range': (1, 1),\n",
       " 'vect__norm': 'l2',\n",
       " 'vect__preprocessor': None,\n",
       " 'vect__smooth_idf': True,\n",
       " 'vect__stop_words': None,\n",
       " 'vect__strip_accents': None,\n",
       " 'vect__sublinear_tf': False,\n",
       " 'vect__token_pattern': '(?u)\\\\b\\\\w\\\\w+\\\\b',\n",
       " 'vect__tokenizer': <function __main__.tokenize(text)>,\n",
       " 'vect__use_idf': True,\n",
       " 'vect__vocabulary': None,\n",
       " 'clf__estimator__algorithm': 'SAMME.R',\n",
       " 'clf__estimator__base_estimator': None,\n",
       " 'clf__estimator__learning_rate': 1.0,\n",
       " 'clf__estimator__n_estimators': 50,\n",
       " 'clf__estimator__random_state': None,\n",
       " 'clf__estimator': AdaBoostClassifier(algorithm='SAMME.R', base_estimator=None, learning_rate=1.0,\n",
       "                    n_estimators=50, random_state=None),\n",
       " 'clf__n_jobs': None}"
      ]
     },
     "execution_count": 22,
     "metadata": {},
     "output_type": "execute_result"
    }
   ],
   "source": [
    "pipeline = Pipeline([\n",
    "    ('vect',TfidfVectorizer(tokenizer=tokenize)),\n",
    "    ('clf',  MultiOutputClassifier(AdaBoostClassifier()))\n",
    "])\n",
    "pipeline.get_params()"
   ]
  },
  {
   "cell_type": "code",
   "execution_count": 23,
   "metadata": {},
   "outputs": [
    {
     "name": "stderr",
     "output_type": "stream",
     "text": [
      "/Library/Frameworks/Python.framework/Versions/3.6/lib/python3.6/site-packages/sklearn/model_selection/_split.py:1978: FutureWarning: The default value of cv will change from 3 to 5 in version 0.22. Specify it explicitly to silence this warning.\n",
      "  warnings.warn(CV_WARNING, FutureWarning)\n",
      "/Library/Frameworks/Python.framework/Versions/3.6/lib/python3.6/site-packages/sklearn/metrics/classification.py:1437: UndefinedMetricWarning: Precision and F-score are ill-defined and being set to 0.0 in labels with no predicted samples.\n",
      "  'precision', 'predicted', average, warn_for)\n",
      "/Library/Frameworks/Python.framework/Versions/3.6/lib/python3.6/site-packages/sklearn/metrics/classification.py:1439: UndefinedMetricWarning: Recall and F-score are ill-defined and being set to 0.0 in labels with no true samples.\n",
      "  'recall', 'true', average, warn_for)\n"
     ]
    },
    {
     "name": "stdout",
     "output_type": "stream",
     "text": [
      "related\n",
      " Accuracy:  0.7880   % Precision: 0.7916   % Recall 0.9808 \n",
      "request\n",
      " Accuracy:  0.8940   % Precision: 0.7792   % Recall 0.5118 \n",
      "offer\n",
      " Accuracy:  0.9951   % Precision: 0.3333   % Recall 0.0548 \n",
      "aid_related\n",
      " Accuracy:  0.7617   % Precision: 0.7640   % Recall 0.6067 \n",
      "medical_help\n",
      " Accuracy:  0.9313   % Precision: 0.6532   % Recall 0.2628 \n",
      "medical_products\n",
      " Accuracy:  0.9602   % Precision: 0.7105   % Recall 0.3435 \n",
      "search_and_rescue\n",
      " Accuracy:  0.9748   % Precision: 0.6693   % Recall 0.1936 \n",
      "security\n",
      " Accuracy:  0.9800   % Precision: 0.3333   % Recall 0.0608 \n",
      "military\n",
      " Accuracy:  0.9737   % Precision: 0.6847   % Recall 0.3870 \n",
      "child_alone\n",
      " Accuracy:  1.0000   % Precision: 0.0000   % Recall 0.0000 \n",
      "water\n",
      " Accuracy:  0.9662   % Precision: 0.7634   % Recall 0.6751 \n",
      "food\n",
      " Accuracy:  0.9490   % Precision: 0.7944   % Recall 0.7348 \n",
      "shelter\n",
      " Accuracy:  0.9486   % Precision: 0.7968   % Recall 0.5462 \n",
      "clothing\n",
      " Accuracy:  0.9883   % Precision: 0.7214   % Recall 0.4106 \n",
      "money\n",
      " Accuracy:  0.9778   % Precision: 0.5645   % Recall 0.2815 \n",
      "missing_people\n",
      " Accuracy:  0.9896   % Precision: 0.7609   % Recall 0.1862 \n",
      "refugees\n",
      " Accuracy:  0.9708   % Precision: 0.6266   % Recall 0.2813 \n",
      "death\n",
      " Accuracy:  0.9698   % Precision: 0.7643   % Recall 0.4853 \n",
      "other_aid\n",
      " Accuracy:  0.8740   % Precision: 0.5565   % Recall 0.1540 \n",
      "infrastructure_related\n",
      " Accuracy:  0.9362   % Precision: 0.4886   % Recall 0.1071 \n",
      "transport\n",
      " Accuracy:  0.9595   % Precision: 0.7733   % Recall 0.2289 \n",
      "buildings\n",
      " Accuracy:  0.9613   % Precision: 0.6901   % Recall 0.4212 \n",
      "electricity\n",
      " Accuracy:  0.9818   % Precision: 0.5694   % Recall 0.2680 \n",
      "tools\n",
      " Accuracy:  0.9935   % Precision: 0.2857   % Recall 0.0202 \n",
      "hospitals\n",
      " Accuracy:  0.9896   % Precision: 0.4048   % Recall 0.1097 \n",
      "shops\n",
      " Accuracy:  0.9962   % Precision: 0.5714   % Recall 0.1311 \n",
      "aid_centers\n",
      " Accuracy:  0.9880   % Precision: 0.4848   % Recall 0.0856 \n",
      "other_infrastructure\n",
      " Accuracy:  0.9567   % Precision: 0.5000   % Recall 0.1116 \n",
      "weather_related\n",
      " Accuracy:  0.8809   % Precision: 0.8658   % Recall 0.6818 \n",
      "floods\n",
      " Accuracy:  0.9584   % Precision: 0.8799   % Recall 0.5830 \n",
      "storm\n",
      " Accuracy:  0.9434   % Precision: 0.7952   % Recall 0.5094 \n",
      "fire\n",
      " Accuracy:  0.9905   % Precision: 0.5631   % Recall 0.3558 \n",
      "earthquake\n",
      " Accuracy:  0.9734   % Precision: 0.8810   % Recall 0.8284 \n",
      "cold\n",
      " Accuracy:  0.9821   % Precision: 0.6957   % Recall 0.3626 \n",
      "other_weather\n",
      " Accuracy:  0.9484   % Precision: 0.5934   % Recall 0.1671 \n",
      "direct_report\n",
      " Accuracy:  0.8505   % Precision: 0.7078   % Recall 0.3996 \n",
      "label ranking average precision: 0.7385087328609142\n"
     ]
    }
   ],
   "source": [
    "parameters = {\n",
    "    'vect__smooth_idf': [True,False],\n",
    "}\n",
    "# create grid search object\n",
    "cv = GridSearchCV(pipeline, param_grid=parameters,n_jobs=-1)\n",
    "cv.fit(X_train, y_train)\n",
    "y_pred = cv.predict(X_test)   \n",
    "display_results(y_test, y_pred)"
   ]
  },
  {
   "cell_type": "markdown",
   "metadata": {},
   "source": [
    "### 9. Export your model as a pickle file"
   ]
  },
  {
   "cell_type": "code",
   "execution_count": 24,
   "metadata": {},
   "outputs": [],
   "source": [
    "with open('classifer.pkl', 'wb') as f:\n",
    "    pickle.dump(cv, f)"
   ]
  },
  {
   "cell_type": "markdown",
   "metadata": {},
   "source": [
    "### 10. Use this notebook to complete `train.py`\n",
    "Use the template file attached in the Resources folder to write a script that runs the steps above to create a database and export a model based on a new dataset specified by the user."
   ]
  }
 ],
 "metadata": {
  "kernelspec": {
   "display_name": "Python 3",
   "language": "python",
   "name": "python3"
  },
  "language_info": {
   "codemirror_mode": {
    "name": "ipython",
    "version": 3
   },
   "file_extension": ".py",
   "mimetype": "text/x-python",
   "name": "python",
   "nbconvert_exporter": "python",
   "pygments_lexer": "ipython3",
   "version": "3.6.5"
  }
 },
 "nbformat": 4,
 "nbformat_minor": 2
}
