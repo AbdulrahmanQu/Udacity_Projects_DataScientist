{
 "cells": [
  {
   "cell_type": "markdown",
   "metadata": {},
   "source": [
    "# Developing an AI application\n",
    "\n",
    "Going forward, AI algorithms will be incorporated into more and more everyday applications. For example, you might want to include an image classifier in a smart phone app. To do this, you'd use a deep learning model trained on hundreds of thousands of images as part of the overall application architecture. A large part of software development in the future will be using these types of models as common parts of applications. \n",
    "\n",
    "In this project, you'll train an image classifier to recognize different species of flowers. You can imagine using something like this in a phone app that tells you the name of the flower your camera is looking at. In practice you'd train this classifier, then export it for use in your application. We'll be using [this dataset](http://www.robots.ox.ac.uk/~vgg/data/flowers/102/index.html) of 102 flower categories, you can see a few examples below. \n",
    "\n",
    "<img src='assets/Flowers.png' width=500px>\n",
    "\n",
    "The project is broken down into multiple steps:\n",
    "\n",
    "* Load and preprocess the image dataset\n",
    "* Train the image classifier on your dataset\n",
    "* Use the trained classifier to predict image content\n",
    "\n",
    "We'll lead you through each part which you'll implement in Python.\n",
    "\n",
    "When you've completed this project, you'll have an application that can be trained on any set of labeled images. Here your network will be learning about flowers and end up as a command line application. But, what you do with your new skills depends on your imagination and effort in building a dataset. For example, imagine an app where you take a picture of a car, it tells you what the make and model is, then looks up information about it. Go build your own dataset and make something new.\n",
    "\n",
    "First up is importing the packages you'll need. It's good practice to keep all the imports at the beginning of your code. As you work through this notebook and find you need to import a package, make sure to add the import up here.\n",
    "\n",
    "Please make sure if you are running this notebook in the workspace that you have chosen GPU rather than CPU mode."
   ]
  },
  {
   "cell_type": "code",
   "execution_count": 1,
   "metadata": {},
   "outputs": [],
   "source": [
    "# Imports here\n",
    "%matplotlib inline\n",
    "\n",
    "import torch\n",
    "import torch.nn as nn\n",
    "import torch.optim as optim\n",
    "from torch.optim import lr_scheduler\n",
    "import numpy as np\n",
    "import time\n",
    "import os\n",
    "import argparse\n",
    "from torchvision import datasets, models, transforms, utils\n",
    "from torch.autograd import Variable\n",
    "import torch.nn.functional as F\n",
    "import copy\n",
    "from PIL import Image\n",
    "import matplotlib.pyplot as plt\n",
    "import json\n",
    "from collections import OrderedDict\n",
    "\n"
   ]
  },
  {
   "cell_type": "markdown",
   "metadata": {},
   "source": [
    "## Load the data\n",
    "\n",
    "Here you'll use `torchvision` to load the data ([documentation](http://pytorch.org/docs/0.3.0/torchvision/index.html)). The data should be included alongside this notebook, otherwise you can [download it here](https://s3.amazonaws.com/content.udacity-data.com/nd089/flower_data.tar.gz). The dataset is split into three parts, training, validation, and testing. For the training, you'll want to apply transformations such as random scaling, cropping, and flipping. This will help the network generalize leading to better performance. You'll also need to make sure the input data is resized to 224x224 pixels as required by the pre-trained networks.\n",
    "\n",
    "The validation and testing sets are used to measure the model's performance on data it hasn't seen yet. For this you don't want any scaling or rotation transformations, but you'll need to resize then crop the images to the appropriate size.\n",
    "\n",
    "The pre-trained networks you'll use were trained on the ImageNet dataset where each color channel was normalized separately. For all three sets you'll need to normalize the means and standard deviations of the images to what the network expects. For the means, it's `[0.485, 0.456, 0.406]` and for the standard deviations `[0.229, 0.224, 0.225]`, calculated from the ImageNet images.  These values will shift each color channel to be centered at 0 and range from -1 to 1.\n",
    " "
   ]
  },
  {
   "cell_type": "code",
   "execution_count": 2,
   "metadata": {},
   "outputs": [],
   "source": [
    "data_dir = 'flowers'\n",
    "train_dir = data_dir + '/train'\n",
    "valid_dir = data_dir + '/valid'\n",
    "test_dir = data_dir + '/test'\n",
    "\n",
    "expected_means = [0.485, 0.456, 0.406]\n",
    "expected_std = [0.229, 0.224, 0.225]\n",
    "max_image_size = 224\n",
    "batch_size = 32"
   ]
  },
  {
   "cell_type": "code",
   "execution_count": 3,
   "metadata": {},
   "outputs": [
    {
     "name": "stdout",
     "output_type": "stream",
     "text": [
      "3\n"
     ]
    }
   ],
   "source": [
    "# TODO: Define your transforms for the training, validation, and testing sets\n",
    "\n",
    "data_transforms = {\n",
    "    \"training\": transforms.Compose([transforms.RandomHorizontalFlip(p=0.25),\n",
    "                                    transforms.RandomRotation(25),\n",
    "                                    transforms.RandomGrayscale(p=0.02),\n",
    "                                    transforms.RandomResizedCrop(max_image_size),\n",
    "                                    transforms.ToTensor(),\n",
    "                                    transforms.Normalize(expected_means, expected_std)]),\n",
    "\n",
    "    \"validation\": transforms.Compose([transforms.Resize(max_image_size + 1),\n",
    "                                      transforms.CenterCrop(max_image_size),\n",
    "                                      transforms.ToTensor(),\n",
    "                                      transforms.Normalize(expected_means, expected_std)]),\n",
    "\n",
    "    \"testing\": transforms.Compose([transforms.Resize(max_image_size + 1),\n",
    "                                   transforms.CenterCrop(max_image_size),\n",
    "                                   transforms.ToTensor(),\n",
    "                                   transforms.Normalize(expected_means, expected_std)])\n",
    "\n",
    "}\n",
    "\n",
    "# DONE: Load the datasets with ImageFolder\n",
    "image_datasets = {\n",
    "    \"training\": datasets.ImageFolder(train_dir, transform=data_transforms[\"training\"]),\n",
    "    \"validation\": datasets.ImageFolder(valid_dir, transform=data_transforms[\"validation\"]),\n",
    "    \"testing\": datasets.ImageFolder(test_dir, transform=data_transforms[\"testing\"])\n",
    "}\n",
    "\n",
    "# DONE: Using the image datasets and the trainforms, define the dataloaders\n",
    "dataloaders = {\n",
    "    \"training\": torch.utils.data.DataLoader(image_datasets[\"training\"], batch_size=batch_size, shuffle=True),\n",
    "    \"validation\": torch.utils.data.DataLoader(image_datasets[\"validation\"], batch_size=batch_size),\n",
    "    \"testing\": torch.utils.data.DataLoader(image_datasets[\"testing\"], batch_size=batch_size)\n",
    "}\n",
    "\n",
    "print (len(dataloaders))"
   ]
  },
  {
   "cell_type": "markdown",
   "metadata": {},
   "source": [
    "### Label mapping\n",
    "\n",
    "You'll also need to load in a mapping from category label to category name. You can find this in the file `cat_to_name.json`. It's a JSON object which you can read in with the [`json` module](https://docs.python.org/2/library/json.html). This will give you a dictionary mapping the integer encoded categories to the actual names of the flowers."
   ]
  },
  {
   "cell_type": "code",
   "execution_count": 4,
   "metadata": {},
   "outputs": [
    {
     "name": "stdout",
     "output_type": "stream",
     "text": [
      "Images are labeled with 102 categories.\n"
     ]
    }
   ],
   "source": [
    "\n",
    "with open('cat_to_name.json', 'r') as f:\n",
    "    cat_to_name = json.load(f)\n",
    "    print(f\"Images are labeled with {len(cat_to_name)} categories.\")\n"
   ]
  },
  {
   "cell_type": "markdown",
   "metadata": {},
   "source": [
    "# Building and training the classifier\n",
    "\n",
    "Now that the data is ready, it's time to build and train the classifier. As usual, you should use one of the pretrained models from `torchvision.models` to get the image features. Build and train a new feed-forward classifier using those features.\n",
    "\n",
    "We're going to leave this part up to you. Refer to [the rubric](https://review.udacity.com/#!/rubrics/1663/view) for guidance on successfully completing this section. Things you'll need to do:\n",
    "\n",
    "* Load a [pre-trained network](http://pytorch.org/docs/master/torchvision/models.html) (If you need a starting point, the VGG networks work great and are straightforward to use)\n",
    "* Define a new, untrained feed-forward network as a classifier, using ReLU activations and dropout\n",
    "* Train the classifier layers using backpropagation using the pre-trained network to get the features\n",
    "* Track the loss and accuracy on the validation set to determine the best hyperparameters\n",
    "\n",
    "We've left a cell open for you below, but use as many as you need. Our advice is to break the problem up into smaller parts you can run separately. Check that each part is doing what you expect, then move on to the next. You'll likely find that as you work through each part, you'll need to go back and modify your previous code. This is totally normal!\n",
    "\n",
    "When training make sure you're updating only the weights of the feed-forward network. You should be able to get the validation accuracy above 70% if you build everything right. Make sure to try different hyperparameters (learning rate, units in the classifier, epochs, etc) to find the best model. Save those hyperparameters to use as default values in the next part of the project.\n",
    "\n",
    "One last important tip if you're using the workspace to run your code: To avoid having your workspace disconnect during the long-running tasks in this notebook, please read in the earlier page in this lesson called Intro to GPU Workspaces about Keeping Your Session Active. You'll want to include code from the workspace_utils.py module."
   ]
  },
  {
   "cell_type": "code",
   "execution_count": 5,
   "metadata": {},
   "outputs": [
    {
     "name": "stderr",
     "output_type": "stream",
     "text": [
      "Downloading: \"https://download.pytorch.org/models/vgg16-397923af.pth\" to /root/.torch/models/vgg16-397923af.pth\n",
      "100%|██████████| 553433881/553433881 [00:04<00:00, 124277041.26it/s]\n"
     ]
    }
   ],
   "source": [
    "nn_model = models.vgg16(pretrained=True)"
   ]
  },
  {
   "cell_type": "code",
   "execution_count": 6,
   "metadata": {},
   "outputs": [
    {
     "data": {
      "text/plain": [
       "[3136, 784]"
      ]
     },
     "execution_count": 6,
     "metadata": {},
     "output_type": "execute_result"
    }
   ],
   "source": [
    "# TODO: Build and train your network\n",
    "\n",
    "output_size = len(cat_to_name)\n",
    "\n",
    "# Using VGG16.\n",
    "\n",
    "# Input size from current classifier\n",
    "input_size = nn_model.classifier[0].in_features\n",
    "hidden_size = [\n",
    "    (input_size // 8),\n",
    "    (input_size // 32)\n",
    "]\n",
    "\n",
    "# Prevent backpropigation on parameters\n",
    "for param in nn_model.parameters():\n",
    "    param.requires_grad = False \n",
    "    \n",
    "# Create nn.Module with Sequential using an OrderedDict\n",
    "# See https://pytorch.org/docs/stable/nn.html#torch.nn.Sequential\n",
    "classifier = nn.Sequential(OrderedDict([\n",
    "        ('fc1', nn.Linear(input_size, hidden_size[0])),\n",
    "        ('relu1', nn.ReLU()),\n",
    "        ('dropout', nn.Dropout(p=0.15)),\n",
    "        ('fc2', nn.Linear(hidden_size[0], hidden_size[1])),\n",
    "        ('relu2', nn.ReLU()),\n",
    "        ('dropout', nn.Dropout(p=0.15)),\n",
    "        ('output', nn.Linear(hidden_size[1], output_size)),\n",
    "        # LogSoftmax is needed by NLLLoss criterion\n",
    "        ('softmax', nn.LogSoftmax(dim=1))\n",
    "    ]))\n",
    "    \n",
    "# Replace classifier\n",
    "nn_model.classifier = classifier\n",
    "\n",
    "hidden_size"
   ]
  },
  {
   "cell_type": "code",
   "execution_count": 7,
   "metadata": {},
   "outputs": [
    {
     "name": "stdout",
     "output_type": "stream",
     "text": [
      "Using the cuda:0 device to train.\n",
      "Training on 205 batches of 32.\n",
      "Displaying average loss and accuracy for epoch every 50 batches.\n",
      "\n",
      "Epoch 1 of 5\n",
      "----------------------------\n",
      "  Batches 000 to 050: avg. loss: 3.9367, accuracy: 16.25%.\n",
      "  Batches 050 to 100: avg. loss: 3.2107, accuracy: 27.78%.\n",
      "  Batches 100 to 150: avg. loss: 2.7776, accuracy: 34.88%.\n",
      "  Batches 150 to 200: avg. loss: 2.4923, accuracy: 39.97%.\n",
      "\n",
      "\tValidating for epoch 1...\n",
      "\tAccurately classified 71% of 832 images.\n",
      "\n",
      "Epoch 2 of 5\n",
      "----------------------------\n",
      "  Batches 000 to 050: avg. loss: 1.3424, accuracy: 63.38%.\n",
      "  Batches 050 to 100: avg. loss: 1.2821, accuracy: 65.41%.\n",
      "  Batches 100 to 150: avg. loss: 1.2545, accuracy: 66.27%.\n",
      "  Batches 150 to 200: avg. loss: 1.2460, accuracy: 66.33%.\n",
      "\n",
      "\tValidating for epoch 2...\n",
      "\tAccurately classified 78% of 832 images.\n",
      "\n",
      "Epoch 3 of 5\n",
      "----------------------------\n",
      "  Batches 000 to 050: avg. loss: 1.0841, accuracy: 69.94%.\n",
      "  Batches 050 to 100: avg. loss: 1.0715, accuracy: 70.44%.\n",
      "  Batches 100 to 150: avg. loss: 1.0849, accuracy: 70.12%.\n",
      "  Batches 150 to 200: avg. loss: 1.0829, accuracy: 70.36%.\n",
      "\n",
      "\tValidating for epoch 3...\n",
      "\tAccurately classified 80% of 832 images.\n",
      "\n",
      "Epoch 4 of 5\n",
      "----------------------------\n",
      "  Batches 000 to 050: avg. loss: 0.9366, accuracy: 73.19%.\n",
      "  Batches 050 to 100: avg. loss: 0.9146, accuracy: 74.78%.\n",
      "  Batches 100 to 150: avg. loss: 0.9097, accuracy: 75.21%.\n",
      "  Batches 150 to 200: avg. loss: 0.9038, accuracy: 75.41%.\n",
      "\n",
      "\tValidating for epoch 4...\n",
      "\tAccurately classified 82% of 832 images.\n",
      "\n",
      "Epoch 5 of 5\n",
      "----------------------------\n",
      "  Batches 000 to 050: avg. loss: 0.7592, accuracy: 79.12%.\n",
      "  Batches 050 to 100: avg. loss: 0.8158, accuracy: 77.47%.\n",
      "  Batches 100 to 150: avg. loss: 0.8235, accuracy: 77.31%.\n",
      "  Batches 150 to 200: avg. loss: 0.8379, accuracy: 77.00%.\n",
      "\n",
      "\tValidating for epoch 5...\n",
      "\tAccurately classified 82% of 832 images.\n",
      "Done...\n"
     ]
    }
   ],
   "source": [
    "# Train the classifier layers using backpropagation using the pre-trained network to get the features\n",
    "# Track the loss and accuracy on the validation set to determine the best hyperparameters\n",
    "\n",
    "device = torch.device(\"cuda:0\" if torch.cuda.is_available() else \"cpu\")\n",
    "\n",
    "epochs = 5\n",
    "learning_rate = 0.001\n",
    "chk_every = 50\n",
    "\n",
    "# Start clean by setting gradients of all parameters to zero. \n",
    "nn_model.zero_grad()\n",
    "\n",
    "# The negative log likelihood loss as criterion.\n",
    "criterion = nn.NLLLoss()\n",
    "\n",
    "# Adam: A Method for Stochastic Optimization\n",
    "# https://arxiv.org/abs/1412.6980\n",
    "optimizer = optim.Adam(nn_model.classifier.parameters(), lr=learning_rate)\n",
    "\n",
    "# Move model to perferred device.\n",
    "nn_model = nn_model.to(device)\n",
    "\n",
    "data_set_len = len(dataloaders[\"training\"].batch_sampler)\n",
    "total_val_images = len(dataloaders[\"validation\"].batch_sampler) * dataloaders[\"validation\"].batch_size\n",
    "\n",
    "print(f'Using the {device} device to train.')\n",
    "print(f'Training on {data_set_len} batches of {dataloaders[\"training\"].batch_size}.')\n",
    "print(f'Displaying average loss and accuracy for epoch every {chk_every} batches.')\n",
    "\n",
    "for e in range(epochs):\n",
    "    e_loss = 0\n",
    "    prev_chk = 0\n",
    "    total = 0\n",
    "    correct = 0\n",
    "    print(f'\\nEpoch {e+1} of {epochs}\\n----------------------------')\n",
    "    for ii, (images, labels) in enumerate(dataloaders[\"training\"]):\n",
    "        # Move images and labeles preferred device\n",
    "        # if they are not already there\n",
    "        images = images.to(device)\n",
    "        labels = labels.to(device)\n",
    "        \n",
    "        # Set gradients of all parameters to zero. \n",
    "        optimizer.zero_grad()\n",
    "        \n",
    "        # Propigate forward and backward \n",
    "        outputs = nn_model.forward(images)\n",
    "        \n",
    "        loss = criterion(outputs, labels)\n",
    "        loss.backward()\n",
    "        optimizer.step()\n",
    "        \n",
    "        # Keep a running total of loss for\n",
    "        # this epoch\n",
    "        e_loss += loss.item()\n",
    "        \n",
    "        # Accuracy\n",
    "        _, predicted = torch.max(outputs.data, 1)\n",
    "        total += labels.size(0)\n",
    "        correct += (predicted == labels).sum().item()\n",
    "        \n",
    "        # Keep a running total of loss for\n",
    "        # this epoch\n",
    "        itr = (ii + 1)\n",
    "        if itr % chk_every == 0:\n",
    "            avg_loss = f'avg. loss: {e_loss/itr:.4f}'\n",
    "            acc = f'accuracy: {(correct/total) * 100:.2f}%'\n",
    "            print(f'  Batches {prev_chk:03} to {itr:03}: {avg_loss}, {acc}.')\n",
    "            prev_chk = (ii + 1)\n",
    "    \n",
    "    # Validate Epoch\n",
    "    e_valid_correct = 0\n",
    "    e_valid_total = 0\n",
    "    \n",
    "\n",
    "    # Disabling gradient calculation\n",
    "    with torch.no_grad():\n",
    "        for ii, (images, labels) in enumerate(dataloaders[\"validation\"]):\n",
    "            # Move images and labeles perferred device\n",
    "            # if they are not already there\n",
    "            images = images.to(device)\n",
    "            labels = labels.to(device)\n",
    "\n",
    "            outputs = nn_model(images)\n",
    "            _, predicted = torch.max(outputs.data, 1)\n",
    "            e_valid_total += labels.size(0)\n",
    "            e_valid_correct += (predicted == labels).sum().item()\n",
    "        print(f\"\\n\\tValidating for epoch {e+1}...\")\n",
    "        correct_perc = 0\n",
    "        if e_valid_correct > 0:\n",
    "            correct_perc = (100 * e_valid_correct // e_valid_total)\n",
    "        print(f'\\tAccurately classified {correct_perc:d}% of {total_val_images} images.')\n",
    "\n",
    "print('Done...')"
   ]
  },
  {
   "cell_type": "markdown",
   "metadata": {},
   "source": [
    "## Testing your network\n",
    "\n",
    "It's good practice to test your trained network on test data, images the network has never seen either in training or validation. This will give you a good estimate for the model's performance on completely new images. Run the test images through the network and measure the accuracy, the same way you did validation. You should be able to reach around 70% accuracy on the test set if the model has been trained well."
   ]
  },
  {
   "cell_type": "code",
   "execution_count": 8,
   "metadata": {},
   "outputs": [
    {
     "name": "stdout",
     "output_type": "stream",
     "text": [
      "Accurately classified 80% of 832 images.\n"
     ]
    }
   ],
   "source": [
    "# TODO: Do validation on the test set\n",
    "\n",
    "correct = 0\n",
    "total = 0\n",
    "total_images = len(dataloaders[\"testing\"].batch_sampler) * dataloaders[\"testing\"].batch_size\n",
    "\n",
    "# Disabling gradient calculation\n",
    "with torch.no_grad():\n",
    "    for ii, (images, labels) in enumerate(dataloaders[\"testing\"]):\n",
    "        # Move images and labeles perferred device\n",
    "        # if they are not already there\n",
    "        images = images.to(device)\n",
    "        labels = labels.to(device)\n",
    "        \n",
    "        outputs = nn_model(images)\n",
    "        _, predicted = torch.max(outputs.data, 1)\n",
    "        total += labels.size(0)\n",
    "        correct += (predicted == labels).sum().item()\n",
    "\n",
    "print(f'Accurately classified {(100 * correct // total):d}% of {total_images} images.')"
   ]
  },
  {
   "cell_type": "markdown",
   "metadata": {},
   "source": [
    "## Save the checkpoint\n",
    "\n",
    "Now that your network is trained, save the model so you can load it later for making predictions. You probably want to save other things such as the mapping of classes to indices which you get from one of the image datasets: `image_datasets['train'].class_to_idx`. You can attach this to the model as an attribute which makes inference easier later on.\n",
    "\n",
    "```model.class_to_idx = image_datasets['train'].class_to_idx```\n",
    "\n",
    "Remember that you'll want to completely rebuild the model later so you can use it for inference. Make sure to include any information you need in the checkpoint. If you want to load the model and keep training, you'll want to save the number of epochs as well as the optimizer state, `optimizer.state_dict`. You'll likely want to use this trained model in the next part of the project, so best to save it now."
   ]
  },
  {
   "cell_type": "code",
   "execution_count": 9,
   "metadata": {},
   "outputs": [],
   "source": [
    "# TODO: Save the checkpoint \n",
    "def save_checkpoint(model_state, file='checkpoint.pth'):\n",
    "    torch.save(model_state, file)\n",
    "\n",
    "\n",
    "nn_model.class_to_idx = image_datasets['training'].class_to_idx\n",
    "model_state = {\n",
    "    'epoch': epochs,\n",
    "    'state_dict': nn_model.state_dict(),\n",
    "    'optimizer_dict': optimizer.state_dict(),\n",
    "    'classifier': classifier,\n",
    "    'class_to_idx': nn_model.class_to_idx,\n",
    "}\n",
    "\n",
    "save_checkpoint(model_state, 'checkpoint.pth')"
   ]
  },
  {
   "cell_type": "markdown",
   "metadata": {},
   "source": [
    "## Loading the checkpoint\n",
    "\n",
    "At this point it's good to write a function that can load a checkpoint and rebuild the model. That way you can come back to this project and keep working on it without having to retrain the network."
   ]
  },
  {
   "cell_type": "code",
   "execution_count": 10,
   "metadata": {},
   "outputs": [],
   "source": [
    "# TODO: Write a function that loads a checkpoint and rebuilds the model\n",
    "\n",
    "def load_checkpoint(file='checkpoint.pth'):\n",
    "    # Loading weights for CPU model while trained on GP\n",
    "    # https://discuss.pytorch.org/t/loading-weights-for-cpu-model-while-trained-on-gpu/1032\n",
    "    model_state = torch.load(file, map_location=lambda storage, loc: storage)\n",
    "    \n",
    "    \n",
    "    model = models.vgg16(pretrained=True)\n",
    "    model.classifier = model_state['classifier']\n",
    "    model.load_state_dict(model_state['state_dict'])\n",
    "    model.class_to_idx = model_state['class_to_idx']\n",
    "\n",
    "    return model\n",
    "\n",
    "\n",
    "chkp_model = load_checkpoint()"
   ]
  },
  {
   "cell_type": "markdown",
   "metadata": {},
   "source": [
    "# Inference for classification\n",
    "\n",
    "Now you'll write a function to use a trained network for inference. That is, you'll pass an image into the network and predict the class of the flower in the image. Write a function called `predict` that takes an image and a model, then returns the top $K$ most likely classes along with the probabilities. It should look like \n",
    "\n",
    "```python\n",
    "probs, classes = predict(image_path, model)\n",
    "print(probs)\n",
    "print(classes)\n",
    "> [ 0.01558163  0.01541934  0.01452626  0.01443549  0.01407339]\n",
    "> ['70', '3', '45', '62', '55']\n",
    "```\n",
    "\n",
    "First you'll need to handle processing the input image such that it can be used in your network. \n",
    "\n",
    "## Image Preprocessing\n",
    "\n",
    "You'll want to use `PIL` to load the image ([documentation](https://pillow.readthedocs.io/en/latest/reference/Image.html)). It's best to write a function that preprocesses the image so it can be used as input for the model. This function should process the images in the same manner used for training. \n",
    "\n",
    "First, resize the images where the shortest side is 256 pixels, keeping the aspect ratio. This can be done with the [`thumbnail`](http://pillow.readthedocs.io/en/3.1.x/reference/Image.html#PIL.Image.Image.thumbnail) or [`resize`](http://pillow.readthedocs.io/en/3.1.x/reference/Image.html#PIL.Image.Image.thumbnail) methods. Then you'll need to crop out the center 224x224 portion of the image.\n",
    "\n",
    "Color channels of images are typically encoded as integers 0-255, but the model expected floats 0-1. You'll need to convert the values. It's easiest with a Numpy array, which you can get from a PIL image like so `np_image = np.array(pil_image)`.\n",
    "\n",
    "As before, the network expects the images to be normalized in a specific way. For the means, it's `[0.485, 0.456, 0.406]` and for the standard deviations `[0.229, 0.224, 0.225]`. You'll want to subtract the means from each color channel, then divide by the standard deviation. \n",
    "\n",
    "And finally, PyTorch expects the color channel to be the first dimension but it's the third dimension in the PIL image and Numpy array. You can reorder dimensions using [`ndarray.transpose`](https://docs.scipy.org/doc/numpy-1.13.0/reference/generated/numpy.ndarray.transpose.html). The color channel needs to be first and retain the order of the other two dimensions."
   ]
  },
  {
   "cell_type": "code",
   "execution_count": 11,
   "metadata": {},
   "outputs": [
    {
     "data": {
      "text/plain": [
       "torch.Tensor"
      ]
     },
     "execution_count": 11,
     "metadata": {},
     "output_type": "execute_result"
    }
   ],
   "source": [
    "def process_image(image):\n",
    "    ''' Scales, crops, and normalizes a PIL image for a PyTorch model,\n",
    "        returns an Numpy array\n",
    "    '''\n",
    "    \n",
    "\n",
    "    expects_means = [0.485, 0.456, 0.406]\n",
    "    expects_std = [0.229, 0.224, 0.225]\n",
    "           \n",
    "    pil_image = Image.open(image).convert(\"RGB\")\n",
    "    \n",
    "    # Any reason not to let transforms do all the work here?\n",
    "    in_transforms = transforms.Compose([transforms.Resize(256),\n",
    "                                        transforms.CenterCrop(224),\n",
    "                                        transforms.ToTensor(),\n",
    "                                        transforms.Normalize(expects_means, expects_std)])\n",
    "    pil_image = in_transforms(pil_image)\n",
    "\n",
    "    return pil_image\n",
    "\n",
    "\n",
    "# DONE: Process a PIL image for use in a PyTorch model\n",
    "chk_image = process_image(valid_dir + '/1/image_06739.jpg')\n",
    "type(chk_image)"
   ]
  },
  {
   "cell_type": "markdown",
   "metadata": {},
   "source": [
    "To check your work, the function below converts a PyTorch tensor and displays it in the notebook. If your `process_image` function works, running the output through this function should return the original image (except for the cropped out portions)."
   ]
  },
  {
   "cell_type": "code",
   "execution_count": 12,
   "metadata": {},
   "outputs": [],
   "source": [
    "def imshow(image, ax=None, title=None):\n",
    "    if ax is None:\n",
    "        fig, ax = plt.subplots()\n",
    "    \n",
    "    # PyTorch tensors assume the color channel is the first dimension\n",
    "    # but matplotlib assumes is the third dimension\n",
    "    image = image.transpose((1, 2, 0))\n",
    "    \n",
    "    # Undo preprocessing\n",
    "    mean = np.array([0.485, 0.456, 0.406])\n",
    "    std = np.array([0.229, 0.224, 0.225])\n",
    "    image = std * image + mean\n",
    "    \n",
    "    # Image needs to be clipped between 0 and 1 or it looks like noise when displayed\n",
    "    image = np.clip(image, 0, 1)\n",
    "    \n",
    "    ax.imshow(image)\n",
    "    \n",
    "    return ax"
   ]
  },
  {
   "cell_type": "markdown",
   "metadata": {},
   "source": [
    "## Class Prediction\n",
    "\n",
    "Once you can get images in the correct format, it's time to write a function for making predictions with your model. A common practice is to predict the top 5 or so (usually called top-$K$) most probable classes. You'll want to calculate the class probabilities then find the $K$ largest values.\n",
    "\n",
    "To get the top $K$ largest values in a tensor use [`x.topk(k)`](http://pytorch.org/docs/master/torch.html#torch.topk). This method returns both the highest `k` probabilities and the indices of those probabilities corresponding to the classes. You need to convert from these indices to the actual class labels using `class_to_idx` which hopefully you added to the model or from an `ImageFolder` you used to load the data ([see here](#Save-the-checkpoint)). Make sure to invert the dictionary so you get a mapping from index to class as well.\n",
    "\n",
    "Again, this method should take a path to an image and a model checkpoint, then return the probabilities and classes.\n",
    "\n",
    "```python\n",
    "probs, classes = predict(image_path, model)\n",
    "print(probs)\n",
    "print(classes)\n",
    "> [ 0.01558163  0.01541934  0.01452626  0.01443549  0.01407339]\n",
    "> ['70', '3', '45', '62', '55']\n",
    "```"
   ]
  },
  {
   "cell_type": "code",
   "execution_count": 13,
   "metadata": {},
   "outputs": [],
   "source": [
    "def predict(image_path, model, topk=5):\n",
    "    ''' Predict the class (or classes) of an image using a trained deep learning model.\n",
    "    '''\n",
    "    \n",
    "    # TODO: Implement the code to predict the class from an image file\n",
    "    model.eval()\n",
    "    \n",
    "    # cpu mode\n",
    "    model.cpu()\n",
    "    \n",
    "    # load image as torch.Tensor\n",
    "    image = process_image(image_path)\n",
    "    \n",
    "    # Unsqueeze returns a new tensor with a dimension of size one\n",
    "    # https://pytorch.org/docs/stable/torch.html#torch.unsqueeze\n",
    "    image = image.unsqueeze(0)\n",
    "    \n",
    "    # Disabling gradient calculation \n",
    "    # (not needed with evaluation mode?)\n",
    "    with torch.no_grad():\n",
    "        output = model.forward(image)\n",
    "        top_prob, top_labels = torch.topk(output, topk)\n",
    "        \n",
    "        # Calculate the exponentials\n",
    "        top_prob = top_prob.exp()\n",
    "        \n",
    "    class_to_idx_inv = {model.class_to_idx[k]: k for k in model.class_to_idx}\n",
    "    mapped_classes = list()\n",
    "    \n",
    "    for label in top_labels.numpy()[0]:\n",
    "        mapped_classes.append(class_to_idx_inv[label])\n",
    "        \n",
    "    return top_prob.numpy()[0], mapped_classes"
   ]
  },
  {
   "cell_type": "markdown",
   "metadata": {},
   "source": [
    "## Sanity Checking\n",
    "\n",
    "Now that you can use a trained model for predictions, check to make sure it makes sense. Even if the testing accuracy is high, it's always good to check that there aren't obvious bugs. Use `matplotlib` to plot the probabilities for the top 5 classes as a bar graph, along with the input image. It should look like this:\n",
    "\n",
    "<img src='assets/inference_example.png' width=300px>\n",
    "\n",
    "You can convert from the class integer encoding to actual flower names with the `cat_to_name.json` file (should have been loaded earlier in the notebook). To show a PyTorch tensor as an image, use the `imshow` function defined above."
   ]
  },
  {
   "cell_type": "code",
   "execution_count": 14,
   "metadata": {},
   "outputs": [
    {
     "data": {
      "image/png": "[encoded data removed]",
      "text/plain": [
       "<matplotlib.figure.Figure at 0x7f7f87f163c8>"
      ]
     },
     "metadata": {
      "needs_background": "light"
     },
     "output_type": "display_data"
    },
    {
     "name": "stdout",
     "output_type": "stream",
     "text": [
      "Correct classification: pelargonium\n",
      "Correct prediction: True\n"
     ]
    }
   ],
   "source": [
    "# TODO: Display an image along with the top 5 classes\n",
    "\n",
    "chk_image_file = valid_dir + '/55/image_04696.jpg'\n",
    "correct_class = cat_to_name['55']\n",
    "\n",
    "top_prob, top_classes = predict(chk_image_file, chkp_model)\n",
    "\n",
    "label = top_classes[0]\n",
    "\n",
    "fig = plt.figure(figsize=(6,6))\n",
    "sp_img = plt.subplot2grid((15,9), (0,0), colspan=9, rowspan=9)\n",
    "sp_prd = plt.subplot2grid((15,9), (9,2), colspan=5, rowspan=5)\n",
    "\n",
    "image = Image.open(chk_image_file)\n",
    "sp_img.axis('off')\n",
    "sp_img.set_title(f'{cat_to_name[label]}')\n",
    "sp_img.imshow(image)\n",
    "\n",
    "labels = []\n",
    "for class_idx in top_classes:\n",
    "    labels.append(cat_to_name[class_idx])\n",
    "\n",
    "yp = np.arange(5)\n",
    "sp_prd.set_yticks(yp)\n",
    "sp_prd.set_yticklabels(labels)\n",
    "sp_prd.set_xlabel('Probability')\n",
    "sp_prd.invert_yaxis()\n",
    "sp_prd.barh(yp, top_prob, xerr=0, align='center', color='blue')\n",
    "\n",
    "plt.show()\n",
    "print(f'Correct classification: {correct_class}')\n",
    "print(f'Correct prediction: {correct_class == cat_to_name[label]}')"
   ]
  },
  {
   "cell_type": "code",
   "execution_count": 15,
   "metadata": {},
   "outputs": [
    {
     "data": {
      "text/plain": [
       "['[NbConvertApp] Converting notebook Image Classifier Project.ipynb to html',\n",
       " '[NbConvertApp] Writing 351107 bytes to Image Classifier Project.html',\n",
       " '[NbConvertApp] Converting notebook Image Classifier Project-zh.ipynb to html',\n",
       " '[NbConvertApp] Writing 295106 bytes to Image Classifier Project-zh.html']"
      ]
     },
     "execution_count": 15,
     "metadata": {},
     "output_type": "execute_result"
    }
   ],
   "source": [
    "!!jupyter nbconvert *.ipynb"
   ]
  }
 ],
 "metadata": {
  "kernelspec": {
   "display_name": "Python 3",
   "language": "python",
   "name": "python3"
  },
  "language_info": {
   "codemirror_mode": {
    "name": "ipython",
    "version": 3
   },
   "file_extension": ".py",
   "mimetype": "text/x-python",
   "name": "python",
   "nbconvert_exporter": "python",
   "pygments_lexer": "ipython3",
   "version": "3.6.3"
  }
 },
 "nbformat": 4,
 "nbformat_minor": 2
}
